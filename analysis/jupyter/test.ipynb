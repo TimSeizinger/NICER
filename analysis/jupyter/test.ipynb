{
 "cells": [
  {
   "cell_type": "code",
   "execution_count": null,
   "metadata": {
    "collapsed": true,
    "pycharm": {
     "name": "#%% test 1\n"
    }
   },
   "outputs": [],
   "source": [
    "N = 20\n",
    "## Draw Something"
   ]
  },
  {
   "cell_type": "code",
   "execution_count": 1,
   "outputs": [
    {
     "name": "stdout",
     "output_type": "stream",
     "text": [
      "X - axis values: \n",
      " [0.3086287  0.25593788 0.80292126 0.75870406 0.44822071 0.45595281\n",
      " 0.58975358 0.46789089 0.46994494 0.06875386 0.73736944 0.84916001\n",
      " 0.56243527 0.97480391 0.54463304 0.51860935 0.40802392 0.88468879\n",
      " 0.35113111 0.5957519 ]\n",
      "Y - axis values: \n",
      " [0.45306522 0.57182487 0.98435813 0.85253439 0.56936526 0.66915943\n",
      " 0.83184403 0.18909845 0.80289497 0.1635396  0.5578624  0.20391411\n",
      " 0.45730988 0.65536781 0.20533489 0.96588998 0.90616659 0.0396319\n",
      " 0.09464929 0.16221975]\n"
     ]
    }
   ],
   "source": [
    "import numpy as np\n",
    "\n",
    "x = np.random.rand(N)\n",
    "print('X - axis values: \\n', x)\n",
    "y = np.random.rand(N)\n",
    "print('Y - axis values: \\n', y)\n"
   ],
   "metadata": {
    "collapsed": false,
    "pycharm": {
     "name": "#%% test 2\n"
    }
   }
  }
 ],
 "metadata": {
  "kernelspec": {
   "name": "python3",
   "language": "python",
   "display_name": "Python 3"
  },
  "language_info": {
   "codemirror_mode": {
    "name": "ipython",
    "version": 2
   },
   "file_extension": ".py",
   "mimetype": "text/x-python",
   "name": "python",
   "nbconvert_exporter": "python",
   "pygments_lexer": "ipython2",
   "version": "2.7.6"
  },
  "pycharm": {
   "stem_cell": {
    "cell_type": "raw",
    "source": [
     "\n",
     "a = 1 + 1\n"
    ],
    "metadata": {
     "collapsed": false
    }
   }
  }
 },
 "nbformat": 4,
 "nbformat_minor": 0
}